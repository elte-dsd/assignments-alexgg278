{
 "cells": [
  {
   "cell_type": "markdown",
   "metadata": {},
   "source": [
    "# CUSUM\n",
    "\n",
    "CUMSUM algorithm for drift detection"
   ]
  },
  {
   "cell_type": "markdown",
   "metadata": {},
   "source": [
    "## Dependencies"
   ]
  },
  {
   "cell_type": "code",
   "execution_count": 12,
   "metadata": {},
   "outputs": [],
   "source": [
    "import numpy\n",
    "import matplotlib.pyplot as plt"
   ]
  },
  {
   "cell_type": "markdown",
   "metadata": {},
   "source": [
    "## Algorithm"
   ]
  },
  {
   "cell_type": "code",
   "execution_count": 58,
   "metadata": {},
   "outputs": [],
   "source": [
    "# Input:\n",
    "# x: Stream of data to analyse for concept drift\n",
    "# threshold: Value to launch the alarm\n",
    "\n",
    "# Output:\n",
    "# Plot of the data stream with change indicator and time of the change\n",
    "\n",
    "def cusum(x, threshold = 1):\n",
    "    S_pos = np.zeros(x.size)\n",
    "    S_neg = np.zeros(x.size)\n",
    "    for i in range(1, x.shape[0]):\n",
    "        s = x[i] - x[i-1]        \n",
    "        S_neg[i] = S_neg[i-1] - s\n",
    "        S_pos[i] = S_pos[i-1] + s\n",
    "        if (S_neg[i] > threshold) or (S_pos[i] > threshold):\n",
    "            # Reset values\n",
    "            plt.plot(x, color = 'b')\n",
    "            plt.axvline(i, color='red', linewidth=1)\n",
    "            plt.title('Change detected at: ' + str(i))\n",
    "            S_neg[i] = 0\n",
    "            S_pos[i] = 0"
   ]
  },
  {
   "cell_type": "markdown",
   "metadata": {},
   "source": [
    "## Test"
   ]
  },
  {
   "cell_type": "code",
   "execution_count": 59,
   "metadata": {},
   "outputs": [
    {
     "data": {
      "image/png": "[encoded data removed]",
      "text/plain": [
       "<Figure size 432x288 with 1 Axes>"
      ]
     },
     "metadata": {
      "needs_background": "light"
     },
     "output_type": "display_data"
    }
   ],
   "source": [
    "x_1 = np.random.normal(0, 0.1, 200)\n",
    "x_2 = np.random.normal(1.5, 0.1, 200)\n",
    "x_3 = np.random.normal(0, 0.1, 200)\n",
    "x = np.concatenate((x_1, x_2, x_3))\n",
    "cusum(x)"
   ]
  }
 ],
 "metadata": {
  "kernelspec": {
   "display_name": "Python 3",
   "language": "python",
   "name": "python3"
  },
  "language_info": {
   "codemirror_mode": {
    "name": "ipython",
    "version": 3
   },
   "file_extension": ".py",
   "mimetype": "text/x-python",
   "name": "python",
   "nbconvert_exporter": "python",
   "pygments_lexer": "ipython3",
   "version": "3.7.3"
  },
  "varInspector": {
   "cols": {
    "lenName": 16,
    "lenType": 16,
    "lenVar": 40
   },
   "kernels_config": {
    "python": {
     "delete_cmd_postfix": "",
     "delete_cmd_prefix": "del ",
     "library": "var_list.py",
     "varRefreshCmd": "print(var_dic_list())"
    },
    "r": {
     "delete_cmd_postfix": ") ",
     "delete_cmd_prefix": "rm(",
     "library": "var_list.r",
     "varRefreshCmd": "cat(var_dic_list()) "
    }
   },
   "types_to_exclude": [
    "module",
    "function",
    "builtin_function_or_method",
    "instance",
    "_Feature"
   ],
   "window_display": false
  }
 },
 "nbformat": 4,
 "nbformat_minor": 2
}
