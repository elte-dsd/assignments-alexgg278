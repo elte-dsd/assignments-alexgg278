{
  "nbformat": 4,
  "nbformat_minor": 0,
  "metadata": {
    "colab": {
      "name": "Assignment_1.ipynb",
      "provenance": [],
      "collapsed_sections": []
    },
    "kernelspec": {
      "name": "python3",
      "display_name": "Python 3"
    }
  },
  "cells": [
    {
      "cell_type": "markdown",
      "metadata": {
        "id": "_Y3LvN64tpOX",
        "colab_type": "text"
      },
      "source": [
        "# Count min-sketch\n",
        "\n",
        "## Alejandro González"
      ]
    },
    {
      "cell_type": "markdown",
      "metadata": {
        "id": "P-cPi54y_lUA",
        "colab_type": "text"
      },
      "source": [
        "### Dependencies\n",
        "* Numpy\n",
        "* Math"
      ]
    },
    {
      "cell_type": "code",
      "metadata": {
        "id": "b8OQt_KD_zne",
        "colab_type": "code",
        "colab": {}
      },
      "source": [
        "import numpy as np\n",
        "import math"
      ],
      "execution_count": 0,
      "outputs": []
    },
    {
      "cell_type": "markdown",
      "metadata": {
        "id": "K2e5vWIx_8Pq",
        "colab_type": "text"
      },
      "source": [
        "### Implementation\n"
      ]
    },
    {
      "cell_type": "markdown",
      "metadata": {
        "id": "MV8ZmssdB57x",
        "colab_type": "text"
      },
      "source": [
        "#### Requests the user a data stream\n",
        "Input: Data stream"
      ]
    },
    {
      "cell_type": "code",
      "metadata": {
        "id": "Lj1xx7wttLpX",
        "colab_type": "code",
        "outputId": "c980614e-8a57-46e8-dc7f-4b04b1353438",
        "colab": {
          "base_uri": "https://localhost:8080/",
          "height": 34
        }
      },
      "source": [
        "# Request data stream\n",
        "S = [str(x) for x in input('Data Stream (elements separated by space): ').split()] "
      ],
      "execution_count": 9,
      "outputs": [
        {
          "output_type": "stream",
          "text": [
            "Data Stream (elements separated by space): A S D F G H G R D W S A S A S A S A S A S A S W Q Q A S D E E D W S D E D F E E E\n"
          ],
          "name": "stdout"
        }
      ]
    },
    {
      "cell_type": "markdown",
      "metadata": {
        "id": "6mgr6xkCAD8q",
        "colab_type": "text"
      },
      "source": [
        "Input: Delta and epsilon\n",
        "\n",
        "These values are necessary to calculate the number of hash functions ***h*** and the depth ***w***."
      ]
    },
    {
      "cell_type": "code",
      "metadata": {
        "id": "wCIf51xcwmNx",
        "colab_type": "code",
        "outputId": "b66fe673-8510-4dd6-d2bd-c051c8397520",
        "colab": {
          "base_uri": "https://localhost:8080/",
          "height": 51
        }
      },
      "source": [
        "# Request error probability and error factor and calculate d and w\n",
        "delta = float(input('Error probability (delta - typically: 0.05 - 0.001): '))\n",
        "epsilon = float(input('Error factor (epsilon - typically: 0.5 - 0.1): '))\n",
        "\n",
        "# Depth or number of hash functions\n",
        "d = int(np.log(1/delta))\n",
        "\n",
        "# Width\n",
        "w = int(math.exp(1) / epsilon)"
      ],
      "execution_count": 10,
      "outputs": [
        {
          "output_type": "stream",
          "text": [
            "Error probability (delta - typically: 0.1 - 0.001): 0.01\n",
            "Error factor (epsilon - typically: 0.5 - 0.01): 0.2\n"
          ],
          "name": "stdout"
        }
      ]
    },
    {
      "cell_type": "code",
      "metadata": {
        "id": "XLujnsE1wmLa",
        "colab_type": "code",
        "outputId": "2fef3f9e-3d9b-4208-fc0a-dddd7275fe80",
        "colab": {
          "base_uri": "https://localhost:8080/",
          "height": 34
        }
      },
      "source": [
        "# Count number of unique items in the stream\n",
        "N = len(np.unique(S))\n",
        "elements = list(np.unique(S))\n",
        "elements"
      ],
      "execution_count": 11,
      "outputs": [
        {
          "output_type": "execute_result",
          "data": {
            "text/plain": [
              "['A', 'D', 'E', 'F', 'G', 'H', 'Q', 'R', 'S', 'W']"
            ]
          },
          "metadata": {
            "tags": []
          },
          "execution_count": 11
        }
      ]
    },
    {
      "cell_type": "markdown",
      "metadata": {
        "id": "-5CgPTKdAaHv",
        "colab_type": "text"
      },
      "source": [
        "### Hash matrix and sketch"
      ]
    },
    {
      "cell_type": "code",
      "metadata": {
        "id": "P-ZNdQ45wzKF",
        "colab_type": "code",
        "outputId": "19c6fb0b-de41-4496-99cd-90b3cdc69382",
        "colab": {
          "base_uri": "https://localhost:8080/",
          "height": 187
        }
      },
      "source": [
        "# Create the hash matrix\n",
        "hash_matrix = np.random.randint(w, size=(N, d))\n",
        "hash_matrix"
      ],
      "execution_count": 12,
      "outputs": [
        {
          "output_type": "execute_result",
          "data": {
            "text/plain": [
              "array([[ 0, 11,  8, 11],\n",
              "       [ 3,  8,  3,  9],\n",
              "       [ 1,  7, 10,  8],\n",
              "       [ 0,  6,  7, 12],\n",
              "       [11,  0,  7,  1],\n",
              "       [ 7,  2, 10,  7],\n",
              "       [ 0,  7,  7,  3],\n",
              "       [12,  3, 12,  7],\n",
              "       [ 3,  0,  4,  6],\n",
              "       [11, 12, 12, 12]])"
            ]
          },
          "metadata": {
            "tags": []
          },
          "execution_count": 12
        }
      ]
    },
    {
      "cell_type": "code",
      "metadata": {
        "id": "YaNa_gpcBhYy",
        "colab_type": "code",
        "colab": {
          "base_uri": "https://localhost:8080/",
          "height": 85
        },
        "outputId": "b9a3cd30-f3d4-471b-c17e-9c6a5ea1d533"
      },
      "source": [
        "sketch = np.zeros((d, w))\n",
        "sketch"
      ],
      "execution_count": 13,
      "outputs": [
        {
          "output_type": "execute_result",
          "data": {
            "text/plain": [
              "array([[0., 0., 0., 0., 0., 0., 0., 0., 0., 0., 0., 0., 0.],\n",
              "       [0., 0., 0., 0., 0., 0., 0., 0., 0., 0., 0., 0., 0.],\n",
              "       [0., 0., 0., 0., 0., 0., 0., 0., 0., 0., 0., 0., 0.],\n",
              "       [0., 0., 0., 0., 0., 0., 0., 0., 0., 0., 0., 0., 0.]])"
            ]
          },
          "metadata": {
            "tags": []
          },
          "execution_count": 13
        }
      ]
    },
    {
      "cell_type": "code",
      "metadata": {
        "id": "1OKmi_8fQFL8",
        "colab_type": "code",
        "colab": {
          "base_uri": "https://localhost:8080/",
          "height": 85
        },
        "outputId": "0c650fec-f835-4cdd-df5e-0faf8513ce85"
      },
      "source": [
        "for item in S:\n",
        "  for h in range(d):\n",
        "    sketch[h][hash_matrix[elements.index(item)][h]] += 1 \n",
        "sketch"
      ],
      "execution_count": 14,
      "outputs": [
        {
          "output_type": "execute_result",
          "data": {
            "text/plain": [
              "array([[12.,  6.,  0., 16.,  0.,  0.,  0.,  1.,  0.,  0.,  0.,  5.,  1.],\n",
              "       [12.,  0.,  1.,  1.,  0.,  0.,  2.,  8.,  6.,  0.,  0.,  8.,  3.],\n",
              "       [ 0.,  0.,  0.,  6., 10.,  0.,  0.,  6.,  8.,  0.,  7.,  0.,  4.],\n",
              "       [ 0.,  2.,  0.,  2.,  0.,  0., 10.,  2.,  6.,  6.,  0.,  8.,  5.]])"
            ]
          },
          "metadata": {
            "tags": []
          },
          "execution_count": 14
        }
      ]
    },
    {
      "cell_type": "markdown",
      "metadata": {
        "id": "EaPJTKh2CbTz",
        "colab_type": "text"
      },
      "source": [
        "### Count of element\n",
        "Requests the desired element to be counted"
      ]
    },
    {
      "cell_type": "code",
      "metadata": {
        "id": "W896O1EhUOP3",
        "colab_type": "code",
        "colab": {
          "base_uri": "https://localhost:8080/",
          "height": 51
        },
        "outputId": "dd8e2c4b-3772-4f9c-a905-cadb9f71e8d2"
      },
      "source": [
        "c = input('Frequency of: ')\n",
        "l = []\n",
        "for h in range(d):\n",
        "  l.append(sketch[h][hash_matrix[elements.index(c)][h]])\n",
        "  \n",
        "count = str(int(min(l)))\n",
        "print('The count of ' + c + ' in the stream is: ' + count)"
      ],
      "execution_count": 15,
      "outputs": [
        {
          "output_type": "stream",
          "text": [
            "Frequency of: A\n",
            "The count of A in the stream is: 8\n"
          ],
          "name": "stdout"
        }
      ]
    }
  ]
}