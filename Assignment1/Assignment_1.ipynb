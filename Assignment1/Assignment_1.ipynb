{
  "nbformat": 4,
  "nbformat_minor": 0,
  "metadata": {
    "colab": {
      "name": "Assignment_1.ipynb",
      "provenance": []
    },
    "kernelspec": {
      "name": "python3",
      "display_name": "Python 3"
    }
  },
  "cells": [
    {
      "cell_type": "markdown",
      "metadata": {
        "id": "_Y3LvN64tpOX",
        "colab_type": "text"
      },
      "source": [
        "# Count min-sketch\n",
        "\n",
        "## Alejandro González"
      ]
    },
    {
      "cell_type": "code",
      "metadata": {
        "id": "b8OQt_KD_zne",
        "colab_type": "code",
        "colab": {}
      },
      "source": [
        "import numpy as np\n",
        "import math"
      ],
      "execution_count": 0,
      "outputs": []
    },
    {
      "cell_type": "code",
      "metadata": {
        "id": "Lj1xx7wttLpX",
        "colab_type": "code",
        "outputId": "56735563-07ba-47c0-e14a-fe2eae6666b3",
        "colab": {
          "base_uri": "https://localhost:8080/",
          "height": 34
        }
      },
      "source": [
        "# Request data stream\n",
        "S = [str(x) for x in input('Data Stream (elements separated by sace): ').split()] "
      ],
      "execution_count": 75,
      "outputs": [
        {
          "output_type": "stream",
          "text": [
            "Data Stream (elements separated by sace): A B C A A D D\n"
          ],
          "name": "stdout"
        }
      ]
    },
    {
      "cell_type": "code",
      "metadata": {
        "id": "wCIf51xcwmNx",
        "colab_type": "code",
        "outputId": "0a345623-a891-40a0-d82e-81bbcb640537",
        "colab": {
          "base_uri": "https://localhost:8080/",
          "height": 68
        }
      },
      "source": [
        "# Request error probability and error factor and calculate d and w\n",
        "delta = float(input('Error probability (delta - typically: 0.1 - 0.001): '))\n",
        "epsilon = float(input('Error factor (epsilon - typically: 0.5 - 0.01): '))\n",
        "\n",
        "# Depth or number of hash functions\n",
        "d = int(np.log(1/delta))\n",
        "\n",
        "# Width\n",
        "w = int(math.exp(1) / epsilon)\n",
        "print(d, w0)"
      ],
      "execution_count": 81,
      "outputs": [
        {
          "output_type": "stream",
          "text": [
            "Error probability (delta - typically: 0.1 - 0.001): 0.001\n",
            "Error factor (epsilon - typically: 0.1 - 0.001): 0.3\n",
            "6 9\n"
          ],
          "name": "stdout"
        }
      ]
    },
    {
      "cell_type": "code",
      "metadata": {
        "id": "XLujnsE1wmLa",
        "colab_type": "code",
        "outputId": "6a2b2f62-9d1d-4e2e-e19d-b6652a55472b",
        "colab": {
          "base_uri": "https://localhost:8080/",
          "height": 34
        }
      },
      "source": [
        "# Count number of unique items in the stream\n",
        "N = len(np.unique(S))\n",
        "elements = list(np.unique(S))\n",
        "elements"
      ],
      "execution_count": 85,
      "outputs": [
        {
          "output_type": "execute_result",
          "data": {
            "text/plain": [
              "['A', 'B', 'C', 'D']"
            ]
          },
          "metadata": {
            "tags": []
          },
          "execution_count": 85
        }
      ]
    },
    {
      "cell_type": "code",
      "metadata": {
        "id": "P-ZNdQ45wzKF",
        "colab_type": "code",
        "outputId": "71461e0c-3341-4fc6-cee0-913d8be11317",
        "colab": {
          "base_uri": "https://localhost:8080/",
          "height": 85
        }
      },
      "source": [
        "# Create the hash matrix\n",
        "hash_matrix = np.random.randint(w, size=(N, d))\n",
        "hash_matrix"
      ],
      "execution_count": 83,
      "outputs": [
        {
          "output_type": "execute_result",
          "data": {
            "text/plain": [
              "array([[1, 1, 3, 0, 6, 0],\n",
              "       [6, 7, 0, 0, 6, 0],\n",
              "       [8, 8, 1, 8, 2, 1],\n",
              "       [1, 5, 2, 3, 3, 7]])"
            ]
          },
          "metadata": {
            "tags": []
          },
          "execution_count": 83
        }
      ]
    },
    {
      "cell_type": "code",
      "metadata": {
        "id": "eI4DbY6kP64F",
        "colab_type": "code",
        "colab": {
          "base_uri": "https://localhost:8080/",
          "height": 119
        },
        "outputId": "5e8c28b1-d819-439a-fe93-74c423cd1339"
      },
      "source": [
        "sketch = np.zeros((d, w))\n",
        "sketch"
      ],
      "execution_count": 87,
      "outputs": [
        {
          "output_type": "execute_result",
          "data": {
            "text/plain": [
              "array([[0., 0., 0., 0., 0., 0., 0., 0., 0.],\n",
              "       [0., 0., 0., 0., 0., 0., 0., 0., 0.],\n",
              "       [0., 0., 0., 0., 0., 0., 0., 0., 0.],\n",
              "       [0., 0., 0., 0., 0., 0., 0., 0., 0.],\n",
              "       [0., 0., 0., 0., 0., 0., 0., 0., 0.],\n",
              "       [0., 0., 0., 0., 0., 0., 0., 0., 0.]])"
            ]
          },
          "metadata": {
            "tags": []
          },
          "execution_count": 87
        }
      ]
    },
    {
      "cell_type": "code",
      "metadata": {
        "id": "1OKmi_8fQFL8",
        "colab_type": "code",
        "colab": {
          "base_uri": "https://localhost:8080/",
          "height": 119
        },
        "outputId": "0a9bd244-14c9-49a1-acc2-92b3445040f1"
      },
      "source": [
        "for item in S:\n",
        "  for h in range(d):\n",
        "    sketch[h][hash_matrix[elements.index(item)][h]] += 1 \n",
        "    \n",
        "sketch"
      ],
      "execution_count": 88,
      "outputs": [
        {
          "output_type": "execute_result",
          "data": {
            "text/plain": [
              "array([[0., 5., 0., 0., 0., 0., 1., 0., 1.],\n",
              "       [0., 3., 0., 0., 0., 2., 0., 1., 1.],\n",
              "       [1., 1., 2., 3., 0., 0., 0., 0., 0.],\n",
              "       [4., 0., 0., 2., 0., 0., 0., 0., 1.],\n",
              "       [0., 0., 1., 2., 0., 0., 4., 0., 0.],\n",
              "       [4., 1., 0., 0., 0., 0., 0., 2., 0.]])"
            ]
          },
          "metadata": {
            "tags": []
          },
          "execution_count": 88
        }
      ]
    },
    {
      "cell_type": "code",
      "metadata": {
        "id": "W896O1EhUOP3",
        "colab_type": "code",
        "colab": {
          "base_uri": "https://localhost:8080/",
          "height": 51
        },
        "outputId": "501d0cbf-49cc-4306-ecbd-2334cd8b27fe"
      },
      "source": [
        "c = input('Frequency of: ')\n",
        "l = []\n",
        "for h in range(d):\n",
        "  l.append(sketch[h][hash_matrix[elements.index(c)][h]])\n",
        "  \n",
        "count = str(int(min(l)))\n",
        "print('The count of ' + c + ' in the stream is: ' + count)"
      ],
      "execution_count": 94,
      "outputs": [
        {
          "output_type": "stream",
          "text": [
            "Frequency of: D\n",
            "The count of D in the stream is: 2\n"
          ],
          "name": "stdout"
        }
      ]
    }
  ]
}